{
  "nbformat": 4,
  "nbformat_minor": 0,
  "metadata": {
    "kernelspec": {
      "display_name": "Python 3",
      "language": "python",
      "name": "python3"
    },
    "language_info": {
      "codemirror_mode": {
        "name": "ipython",
        "version": 3
      },
      "file_extension": ".py",
      "mimetype": "text/x-python",
      "name": "python",
      "nbconvert_exporter": "python",
      "pygments_lexer": "ipython3",
      "version": "3.7.6"
    },
    "colab": {
      "name": "lab1 Uahit Ramazanov DL.ipynb",
      "provenance": [],
      "collapsed_sections": []
    }
  },
  "cells": [
    {
      "cell_type": "markdown",
      "metadata": {
        "id": "W-_dazXuxXeW"
      },
      "source": [
        "<h1>Home work 1</h1> \n",
        "\n",
        "<br>\n",
        "<h2>Classification algorithms comparison</h2>"
      ]
    },
    {
      "cell_type": "code",
      "metadata": {
        "id": "qAnw9dJixXeX"
      },
      "source": [
        "import numpy as np\n",
        "import torch\n",
        "import pandas as pd \n",
        "from torch.autograd import Variable\n",
        "from torch.nn import functional as F"
      ],
      "execution_count": null,
      "outputs": []
    },
    {
      "cell_type": "code",
      "metadata": {
        "colab": {
          "base_uri": "https://localhost:8080/",
          "height": 417
        },
        "id": "riUJLEhuxXeY",
        "outputId": "b5078191-bbe2-4ab3-9f11-aaf4d2aa75ed"
      },
      "source": [
        "df = pd.read_csv('diabetes.csv')\n",
        "df"
      ],
      "execution_count": null,
      "outputs": [
        {
          "output_type": "execute_result",
          "data": {
            "text/html": [
              "<div>\n",
              "<style scoped>\n",
              "    .dataframe tbody tr th:only-of-type {\n",
              "        vertical-align: middle;\n",
              "    }\n",
              "\n",
              "    .dataframe tbody tr th {\n",
              "        vertical-align: top;\n",
              "    }\n",
              "\n",
              "    .dataframe thead th {\n",
              "        text-align: right;\n",
              "    }\n",
              "</style>\n",
              "<table border=\"1\" class=\"dataframe\">\n",
              "  <thead>\n",
              "    <tr style=\"text-align: right;\">\n",
              "      <th></th>\n",
              "      <th>Pregnancies</th>\n",
              "      <th>Glucose</th>\n",
              "      <th>BloodPressure</th>\n",
              "      <th>SkinThickness</th>\n",
              "      <th>Insulin</th>\n",
              "      <th>BMI</th>\n",
              "      <th>DiabetesPedigreeFunction</th>\n",
              "      <th>Age</th>\n",
              "      <th>Outcome</th>\n",
              "    </tr>\n",
              "  </thead>\n",
              "  <tbody>\n",
              "    <tr>\n",
              "      <th>0</th>\n",
              "      <td>6</td>\n",
              "      <td>148</td>\n",
              "      <td>72</td>\n",
              "      <td>35</td>\n",
              "      <td>0</td>\n",
              "      <td>33.6</td>\n",
              "      <td>0.627</td>\n",
              "      <td>50</td>\n",
              "      <td>1</td>\n",
              "    </tr>\n",
              "    <tr>\n",
              "      <th>1</th>\n",
              "      <td>1</td>\n",
              "      <td>85</td>\n",
              "      <td>66</td>\n",
              "      <td>29</td>\n",
              "      <td>0</td>\n",
              "      <td>26.6</td>\n",
              "      <td>0.351</td>\n",
              "      <td>31</td>\n",
              "      <td>0</td>\n",
              "    </tr>\n",
              "    <tr>\n",
              "      <th>2</th>\n",
              "      <td>8</td>\n",
              "      <td>183</td>\n",
              "      <td>64</td>\n",
              "      <td>0</td>\n",
              "      <td>0</td>\n",
              "      <td>23.3</td>\n",
              "      <td>0.672</td>\n",
              "      <td>32</td>\n",
              "      <td>1</td>\n",
              "    </tr>\n",
              "    <tr>\n",
              "      <th>3</th>\n",
              "      <td>1</td>\n",
              "      <td>89</td>\n",
              "      <td>66</td>\n",
              "      <td>23</td>\n",
              "      <td>94</td>\n",
              "      <td>28.1</td>\n",
              "      <td>0.167</td>\n",
              "      <td>21</td>\n",
              "      <td>0</td>\n",
              "    </tr>\n",
              "    <tr>\n",
              "      <th>4</th>\n",
              "      <td>0</td>\n",
              "      <td>137</td>\n",
              "      <td>40</td>\n",
              "      <td>35</td>\n",
              "      <td>168</td>\n",
              "      <td>43.1</td>\n",
              "      <td>2.288</td>\n",
              "      <td>33</td>\n",
              "      <td>1</td>\n",
              "    </tr>\n",
              "    <tr>\n",
              "      <th>...</th>\n",
              "      <td>...</td>\n",
              "      <td>...</td>\n",
              "      <td>...</td>\n",
              "      <td>...</td>\n",
              "      <td>...</td>\n",
              "      <td>...</td>\n",
              "      <td>...</td>\n",
              "      <td>...</td>\n",
              "      <td>...</td>\n",
              "    </tr>\n",
              "    <tr>\n",
              "      <th>763</th>\n",
              "      <td>10</td>\n",
              "      <td>101</td>\n",
              "      <td>76</td>\n",
              "      <td>48</td>\n",
              "      <td>180</td>\n",
              "      <td>32.9</td>\n",
              "      <td>0.171</td>\n",
              "      <td>63</td>\n",
              "      <td>0</td>\n",
              "    </tr>\n",
              "    <tr>\n",
              "      <th>764</th>\n",
              "      <td>2</td>\n",
              "      <td>122</td>\n",
              "      <td>70</td>\n",
              "      <td>27</td>\n",
              "      <td>0</td>\n",
              "      <td>36.8</td>\n",
              "      <td>0.340</td>\n",
              "      <td>27</td>\n",
              "      <td>0</td>\n",
              "    </tr>\n",
              "    <tr>\n",
              "      <th>765</th>\n",
              "      <td>5</td>\n",
              "      <td>121</td>\n",
              "      <td>72</td>\n",
              "      <td>23</td>\n",
              "      <td>112</td>\n",
              "      <td>26.2</td>\n",
              "      <td>0.245</td>\n",
              "      <td>30</td>\n",
              "      <td>0</td>\n",
              "    </tr>\n",
              "    <tr>\n",
              "      <th>766</th>\n",
              "      <td>1</td>\n",
              "      <td>126</td>\n",
              "      <td>60</td>\n",
              "      <td>0</td>\n",
              "      <td>0</td>\n",
              "      <td>30.1</td>\n",
              "      <td>0.349</td>\n",
              "      <td>47</td>\n",
              "      <td>1</td>\n",
              "    </tr>\n",
              "    <tr>\n",
              "      <th>767</th>\n",
              "      <td>1</td>\n",
              "      <td>93</td>\n",
              "      <td>70</td>\n",
              "      <td>31</td>\n",
              "      <td>0</td>\n",
              "      <td>30.4</td>\n",
              "      <td>0.315</td>\n",
              "      <td>23</td>\n",
              "      <td>0</td>\n",
              "    </tr>\n",
              "  </tbody>\n",
              "</table>\n",
              "<p>768 rows × 9 columns</p>\n",
              "</div>"
            ],
            "text/plain": [
              "     Pregnancies  Glucose  ...  Age  Outcome\n",
              "0              6      148  ...   50        1\n",
              "1              1       85  ...   31        0\n",
              "2              8      183  ...   32        1\n",
              "3              1       89  ...   21        0\n",
              "4              0      137  ...   33        1\n",
              "..           ...      ...  ...  ...      ...\n",
              "763           10      101  ...   63        0\n",
              "764            2      122  ...   27        0\n",
              "765            5      121  ...   30        0\n",
              "766            1      126  ...   47        1\n",
              "767            1       93  ...   23        0\n",
              "\n",
              "[768 rows x 9 columns]"
            ]
          },
          "metadata": {},
          "execution_count": 2
        }
      ]
    },
    {
      "cell_type": "code",
      "metadata": {
        "colab": {
          "base_uri": "https://localhost:8080/",
          "height": 265
        },
        "id": "8pGlMizwxXeZ",
        "outputId": "73d7978c-489d-4cd1-da1f-a4f3d151caad"
      },
      "source": [
        "import matplotlib.pyplot as plt\n",
        "\n",
        "#classes = \n",
        "\n",
        "plt.hist(df['Outcome'])\n",
        "plt.show()\n"
      ],
      "execution_count": null,
      "outputs": [
        {
          "output_type": "display_data",
          "data": {
            "image/png": "[encoded data removed]",
            "text/plain": [
              "<Figure size 432x288 with 1 Axes>"
            ]
          },
          "metadata": {
            "needs_background": "light"
          }
        }
      ]
    },
    {
      "cell_type": "code",
      "metadata": {
        "id": "gZxApp4yxXeZ"
      },
      "source": [
        "from sklearn.model_selection import train_test_split"
      ],
      "execution_count": null,
      "outputs": []
    },
    {
      "cell_type": "code",
      "metadata": {
        "id": "HSfbY-DQxXea"
      },
      "source": [
        "X = np.array(df.drop(columns = ['Outcome']))\n",
        "y = np.array(df['Outcome'])\n",
        "x_train, x_test, y_train, y_test = train_test_split(X,y, test_size=0.2, random_state=15)"
      ],
      "execution_count": null,
      "outputs": []
    },
    {
      "cell_type": "code",
      "metadata": {
        "id": "eylvr4j6xXea"
      },
      "source": [
        "class LogisticRegression(torch.nn.Module):\n",
        "    def __init__(self, inputSize, outputSize):\n",
        "        super(LogisticRegression, self).__init__()\n",
        "        self.linear = (torch.nn.Linear(inputSize, outputSize))\n",
        "        \n",
        "\n",
        "    def forward(self, x):\n",
        "        out = torch.sigmoid(self.linear(x))\n",
        "        return out\n",
        "criterion = torch.nn.CrossEntropyLoss()\n",
        "inputDim = x_train.shape[1]\n",
        "outputDim = 2      \n",
        "learningRate = 0.01\n",
        "epochs = 500000\n"
      ],
      "execution_count": null,
      "outputs": []
    },
    {
      "cell_type": "code",
      "metadata": {
        "id": "9eIAJHCgxXeb"
      },
      "source": [
        "model = LogisticRegression(inputDim,outputDim)\n",
        "optimizer = torch.optim.SGD(model.parameters(), lr=learningRate)"
      ],
      "execution_count": null,
      "outputs": []
    },
    {
      "cell_type": "code",
      "metadata": {
        "id": "d9lOg-0KxXec"
      },
      "source": [
        "x_train = torch.from_numpy(x_train).float()\n",
        "y_train = torch.from_numpy(y_train)"
      ],
      "execution_count": null,
      "outputs": []
    },
    {
      "cell_type": "code",
      "metadata": {
        "id": "pSCUSW-rxXed",
        "outputId": "e826eb8c-b1de-4b1a-ebc9-c4d218d633b8"
      },
      "source": [
        "Error = []\n",
        "for epoch in range(epochs):\n",
        "    model.train()\n",
        "    optimizer.zero_grad()\n",
        "    y_pred = model(x_train)\n",
        "    loss = criterion(y_pred, y_train)\n",
        "    loss.backward()\n",
        "    optimizer.step()\n",
        "    Error.append(loss)\n",
        "    if (epoch%5000 == 0):\n",
        "        print(epoch, ' ',loss)"
      ],
      "execution_count": null,
      "outputs": [
        {
          "name": "stdout",
          "output_type": "stream",
          "text": [
            "0   tensor(0.9315, grad_fn=<NllLossBackward>)\n",
            "5000   tensor(0.6074, grad_fn=<NllLossBackward>)\n",
            "10000   tensor(0.6064, grad_fn=<NllLossBackward>)\n",
            "15000   tensor(0.6058, grad_fn=<NllLossBackward>)\n",
            "20000   tensor(0.6053, grad_fn=<NllLossBackward>)\n",
            "25000   tensor(0.6050, grad_fn=<NllLossBackward>)\n",
            "30000   tensor(0.6047, grad_fn=<NllLossBackward>)\n",
            "35000   tensor(0.6044, grad_fn=<NllLossBackward>)\n",
            "40000   tensor(0.6042, grad_fn=<NllLossBackward>)\n",
            "45000   tensor(0.6040, grad_fn=<NllLossBackward>)\n",
            "50000   tensor(0.6038, grad_fn=<NllLossBackward>)\n",
            "55000   tensor(0.6013, grad_fn=<NllLossBackward>)\n",
            "60000   tensor(0.6011, grad_fn=<NllLossBackward>)\n",
            "65000   tensor(0.6010, grad_fn=<NllLossBackward>)\n",
            "70000   tensor(0.6008, grad_fn=<NllLossBackward>)\n",
            "75000   tensor(0.6007, grad_fn=<NllLossBackward>)\n",
            "80000   tensor(0.6006, grad_fn=<NllLossBackward>)\n",
            "85000   tensor(0.6005, grad_fn=<NllLossBackward>)\n",
            "90000   tensor(0.6004, grad_fn=<NllLossBackward>)\n",
            "95000   tensor(0.6003, grad_fn=<NllLossBackward>)\n",
            "100000   tensor(0.6002, grad_fn=<NllLossBackward>)\n",
            "105000   tensor(0.6001, grad_fn=<NllLossBackward>)\n",
            "110000   tensor(0.6000, grad_fn=<NllLossBackward>)\n",
            "115000   tensor(0.5999, grad_fn=<NllLossBackward>)\n",
            "120000   tensor(0.5999, grad_fn=<NllLossBackward>)\n",
            "125000   tensor(0.5998, grad_fn=<NllLossBackward>)\n",
            "130000   tensor(0.5997, grad_fn=<NllLossBackward>)\n",
            "135000   tensor(0.5996, grad_fn=<NllLossBackward>)\n",
            "140000   tensor(0.5996, grad_fn=<NllLossBackward>)\n",
            "145000   tensor(0.5995, grad_fn=<NllLossBackward>)\n",
            "150000   tensor(0.5994, grad_fn=<NllLossBackward>)\n",
            "155000   tensor(0.5994, grad_fn=<NllLossBackward>)\n",
            "160000   tensor(0.5993, grad_fn=<NllLossBackward>)\n",
            "165000   tensor(0.5993, grad_fn=<NllLossBackward>)\n",
            "170000   tensor(0.5992, grad_fn=<NllLossBackward>)\n",
            "175000   tensor(0.5991, grad_fn=<NllLossBackward>)\n",
            "180000   tensor(0.5991, grad_fn=<NllLossBackward>)\n",
            "185000   tensor(0.5990, grad_fn=<NllLossBackward>)\n",
            "190000   tensor(0.5990, grad_fn=<NllLossBackward>)\n",
            "195000   tensor(0.5990, grad_fn=<NllLossBackward>)\n",
            "200000   tensor(0.5989, grad_fn=<NllLossBackward>)\n",
            "205000   tensor(0.5989, grad_fn=<NllLossBackward>)\n",
            "210000   tensor(0.5988, grad_fn=<NllLossBackward>)\n",
            "215000   tensor(0.5988, grad_fn=<NllLossBackward>)\n",
            "220000   tensor(0.5987, grad_fn=<NllLossBackward>)\n",
            "225000   tensor(0.5987, grad_fn=<NllLossBackward>)\n",
            "230000   tensor(0.5987, grad_fn=<NllLossBackward>)\n",
            "235000   tensor(0.5986, grad_fn=<NllLossBackward>)\n",
            "240000   tensor(0.5986, grad_fn=<NllLossBackward>)\n",
            "245000   tensor(0.5986, grad_fn=<NllLossBackward>)\n",
            "250000   tensor(0.5985, grad_fn=<NllLossBackward>)\n",
            "255000   tensor(0.5985, grad_fn=<NllLossBackward>)\n",
            "260000   tensor(0.5985, grad_fn=<NllLossBackward>)\n",
            "265000   tensor(0.5984, grad_fn=<NllLossBackward>)\n",
            "270000   tensor(0.5984, grad_fn=<NllLossBackward>)\n",
            "275000   tensor(0.5984, grad_fn=<NllLossBackward>)\n",
            "280000   tensor(0.5983, grad_fn=<NllLossBackward>)\n",
            "285000   tensor(0.5983, grad_fn=<NllLossBackward>)\n",
            "290000   tensor(0.5983, grad_fn=<NllLossBackward>)\n",
            "295000   tensor(0.5982, grad_fn=<NllLossBackward>)\n",
            "300000   tensor(0.5982, grad_fn=<NllLossBackward>)\n",
            "305000   tensor(0.5982, grad_fn=<NllLossBackward>)\n",
            "310000   tensor(0.5982, grad_fn=<NllLossBackward>)\n",
            "315000   tensor(0.5981, grad_fn=<NllLossBackward>)\n",
            "320000   tensor(0.5981, grad_fn=<NllLossBackward>)\n",
            "325000   tensor(0.5981, grad_fn=<NllLossBackward>)\n",
            "330000   tensor(0.5981, grad_fn=<NllLossBackward>)\n",
            "335000   tensor(0.5980, grad_fn=<NllLossBackward>)\n",
            "340000   tensor(0.5980, grad_fn=<NllLossBackward>)\n",
            "345000   tensor(0.5980, grad_fn=<NllLossBackward>)\n",
            "350000   tensor(0.5980, grad_fn=<NllLossBackward>)\n",
            "355000   tensor(0.5980, grad_fn=<NllLossBackward>)\n",
            "360000   tensor(0.5979, grad_fn=<NllLossBackward>)\n",
            "365000   tensor(0.5979, grad_fn=<NllLossBackward>)\n",
            "370000   tensor(0.5979, grad_fn=<NllLossBackward>)\n",
            "375000   tensor(0.5979, grad_fn=<NllLossBackward>)\n",
            "380000   tensor(0.5978, grad_fn=<NllLossBackward>)\n",
            "385000   tensor(0.5978, grad_fn=<NllLossBackward>)\n",
            "390000   tensor(0.5978, grad_fn=<NllLossBackward>)\n",
            "395000   tensor(0.5978, grad_fn=<NllLossBackward>)\n",
            "400000   tensor(0.5978, grad_fn=<NllLossBackward>)\n",
            "405000   tensor(0.5978, grad_fn=<NllLossBackward>)\n",
            "410000   tensor(0.5977, grad_fn=<NllLossBackward>)\n",
            "415000   tensor(0.5977, grad_fn=<NllLossBackward>)\n",
            "420000   tensor(0.5977, grad_fn=<NllLossBackward>)\n",
            "425000   tensor(0.5977, grad_fn=<NllLossBackward>)\n",
            "430000   tensor(0.5977, grad_fn=<NllLossBackward>)\n",
            "435000   tensor(0.5977, grad_fn=<NllLossBackward>)\n",
            "440000   tensor(0.5976, grad_fn=<NllLossBackward>)\n",
            "445000   tensor(0.5976, grad_fn=<NllLossBackward>)\n",
            "450000   tensor(0.5976, grad_fn=<NllLossBackward>)\n",
            "455000   tensor(0.5976, grad_fn=<NllLossBackward>)\n",
            "460000   tensor(0.5976, grad_fn=<NllLossBackward>)\n",
            "465000   tensor(0.5976, grad_fn=<NllLossBackward>)\n",
            "470000   tensor(0.5975, grad_fn=<NllLossBackward>)\n",
            "475000   tensor(0.5975, grad_fn=<NllLossBackward>)\n",
            "480000   tensor(0.5975, grad_fn=<NllLossBackward>)\n",
            "485000   tensor(0.5975, grad_fn=<NllLossBackward>)\n",
            "490000   tensor(0.5975, grad_fn=<NllLossBackward>)\n",
            "495000   tensor(0.5975, grad_fn=<NllLossBackward>)\n"
          ]
        }
      ]
    },
    {
      "cell_type": "code",
      "metadata": {
        "id": "sIcVkQLzxXed",
        "outputId": "af6d4504-27f0-4c40-dc4b-17cba5c1501c"
      },
      "source": [
        "%matplotlib inline\n",
        "plt.plot(Error)"
      ],
      "execution_count": null,
      "outputs": [
        {
          "data": {
            "text/plain": [
              "[<matplotlib.lines.Line2D at 0x25a6a9d3208>]"
            ]
          },
          "execution_count": 10,
          "metadata": {},
          "output_type": "execute_result"
        },
        {
          "data": {
            "image/png": "[encoded data removed]",
            "text/plain": [
              "<Figure size 432x288 with 1 Axes>"
            ]
          },
          "metadata": {
            "needs_background": "light"
          },
          "output_type": "display_data"
        }
      ]
    },
    {
      "cell_type": "code",
      "metadata": {
        "id": "vT8v7v4FxXee"
      },
      "source": [
        "x_test = torch.from_numpy(x_test).float()\n",
        "y_pred = model.forward(x_test)"
      ],
      "execution_count": null,
      "outputs": []
    },
    {
      "cell_type": "code",
      "metadata": {
        "id": "9EuMwrkAxXee"
      },
      "source": [
        "y_pred = np.argmax(y_pred.detach().numpy(),axis = 1)"
      ],
      "execution_count": null,
      "outputs": []
    },
    {
      "cell_type": "code",
      "metadata": {
        "id": "DjaH3GpcxXee",
        "outputId": "d44682d8-7662-49aa-fa0a-31bdea29bc8a"
      },
      "source": [
        "y_pred"
      ],
      "execution_count": null,
      "outputs": [
        {
          "data": {
            "text/plain": [
              "array([0, 1, 1, 0, 1, 1, 0, 0, 0, 0, 0, 0, 1, 0, 0, 0, 0, 0, 1, 0, 0, 1,\n",
              "       0, 1, 1, 1, 0, 1, 0, 0, 0, 0, 0, 0, 1, 1, 1, 0, 1, 1, 0, 1, 0, 0,\n",
              "       0, 0, 0, 0, 0, 0, 1, 0, 0, 0, 0, 0, 0, 0, 0, 0, 0, 1, 1, 0, 0, 0,\n",
              "       0, 1, 0, 0, 1, 1, 0, 0, 0, 0, 1, 0, 0, 1, 0, 1, 1, 0, 0, 0, 1, 1,\n",
              "       0, 1, 0, 0, 0, 0, 1, 0, 1, 0, 0, 0, 0, 0, 0, 0, 1, 0, 1, 0, 0, 1,\n",
              "       0, 0, 0, 0, 0, 0, 1, 1, 0, 1, 0, 0, 0, 0, 1, 0, 1, 0, 0, 0, 0, 1,\n",
              "       1, 0, 1, 0, 0, 0, 0, 0, 0, 1, 1, 0, 0, 0, 0, 0, 1, 0, 0, 0, 0, 0],\n",
              "      dtype=int64)"
            ]
          },
          "execution_count": 13,
          "metadata": {},
          "output_type": "execute_result"
        }
      ]
    },
    {
      "cell_type": "code",
      "metadata": {
        "id": "M2lZUWNtxXef",
        "outputId": "bff8b84a-c7e3-4950-e904-f63f3ce6cdf7"
      },
      "source": [
        "y_test"
      ],
      "execution_count": null,
      "outputs": [
        {
          "data": {
            "text/plain": [
              "array([0, 0, 0, 1, 0, 1, 1, 1, 0, 1, 1, 0, 0, 0, 1, 0, 0, 0, 0, 0, 0, 1,\n",
              "       0, 0, 0, 1, 0, 0, 0, 0, 1, 0, 0, 1, 1, 0, 0, 0, 1, 0, 0, 1, 0, 0,\n",
              "       1, 1, 0, 0, 0, 0, 0, 1, 0, 0, 1, 0, 0, 0, 0, 0, 0, 1, 0, 1, 0, 0,\n",
              "       0, 1, 0, 0, 0, 0, 0, 0, 0, 0, 0, 0, 1, 0, 0, 1, 1, 0, 1, 0, 1, 0,\n",
              "       0, 0, 0, 1, 0, 0, 1, 0, 0, 1, 0, 0, 0, 1, 0, 1, 1, 0, 1, 0, 0, 0,\n",
              "       0, 0, 0, 0, 0, 0, 0, 1, 1, 0, 0, 0, 0, 0, 0, 0, 1, 0, 0, 0, 1, 1,\n",
              "       0, 1, 1, 1, 0, 0, 0, 1, 1, 1, 0, 0, 0, 0, 1, 0, 1, 0, 0, 0, 0, 0],\n",
              "      dtype=int64)"
            ]
          },
          "execution_count": 14,
          "metadata": {},
          "output_type": "execute_result"
        }
      ]
    },
    {
      "cell_type": "code",
      "metadata": {
        "id": "qDTBI_fnxXef"
      },
      "source": [
        "from sklearn.metrics import classification_report, confusion_matrix"
      ],
      "execution_count": null,
      "outputs": []
    },
    {
      "cell_type": "code",
      "metadata": {
        "colab": {
          "base_uri": "https://localhost:8080/"
        },
        "id": "Y4M7N0VqxXef",
        "outputId": "bc031f46-c271-415d-fa04-a2cc374819f3"
      },
      "source": [
        "print(classification_report(y_test, y_pred))"
      ],
      "execution_count": null,
      "outputs": [
        {
          "output_type": "stream",
          "name": "stdout",
          "text": [
            "              precision    recall  f1-score   support\n",
            "\n",
            "           0       0.82      0.82      0.82       108\n",
            "           1       0.58      0.57      0.57        46\n",
            "\n",
            "    accuracy                           0.75       154\n",
            "   macro avg       0.70      0.69      0.70       154\n",
            "weighted avg       0.75      0.75      0.75       154\n",
            "\n"
          ]
        }
      ]
    },
    {
      "cell_type": "code",
      "metadata": {
        "id": "qbWODdJyxXeg",
        "outputId": "ce81a620-bf9d-4bb4-90e7-eb71fafae337"
      },
      "source": [
        "confusion_matrix(y_test, y_pred)"
      ],
      "execution_count": null,
      "outputs": [
        {
          "data": {
            "text/plain": [
              "array([[82, 26],\n",
              "       [26, 20]], dtype=int64)"
            ]
          },
          "execution_count": 17,
          "metadata": {},
          "output_type": "execute_result"
        }
      ]
    },
    {
      "cell_type": "code",
      "metadata": {
        "id": "RVDh1RNUxXeg"
      },
      "source": [
        "from sklearn.datasets import load_iris\n",
        "from sklearn.linear_model import LogisticRegression"
      ],
      "execution_count": null,
      "outputs": []
    },
    {
      "cell_type": "code",
      "metadata": {
        "colab": {
          "base_uri": "https://localhost:8080/"
        },
        "id": "NGxumajexXeg",
        "outputId": "17133b19-3f87-4584-f94b-c59396fa1835"
      },
      "source": [
        "clf = LogisticRegression(random_state=0).fit(x_train, y_train)"
      ],
      "execution_count": null,
      "outputs": [
        {
          "output_type": "stream",
          "name": "stderr",
          "text": [
            "/usr/local/lib/python3.7/dist-packages/sklearn/linear_model/_logistic.py:940: ConvergenceWarning: lbfgs failed to converge (status=1):\n",
            "STOP: TOTAL NO. of ITERATIONS REACHED LIMIT.\n",
            "\n",
            "Increase the number of iterations (max_iter) or scale the data as shown in:\n",
            "    https://scikit-learn.org/stable/modules/preprocessing.html\n",
            "Please also refer to the documentation for alternative solver options:\n",
            "    https://scikit-learn.org/stable/modules/linear_model.html#logistic-regression\n",
            "  extra_warning_msg=_LOGISTIC_SOLVER_CONVERGENCE_MSG)\n"
          ]
        }
      ]
    },
    {
      "cell_type": "code",
      "metadata": {
        "id": "04sjtLTyxXeh"
      },
      "source": [
        "y_pred = clf.predict(x_test)"
      ],
      "execution_count": null,
      "outputs": []
    },
    {
      "cell_type": "code",
      "metadata": {
        "colab": {
          "base_uri": "https://localhost:8080/"
        },
        "id": "7gtzuqqrxXeh",
        "outputId": "b5fd175d-ee8c-4699-d14d-ea901b201631"
      },
      "source": [
        "confusion_matrix(y_test, y_pred)"
      ],
      "execution_count": null,
      "outputs": [
        {
          "output_type": "execute_result",
          "data": {
            "text/plain": [
              "array([[89, 19],\n",
              "       [20, 26]])"
            ]
          },
          "metadata": {},
          "execution_count": 13
        }
      ]
    },
    {
      "cell_type": "code",
      "metadata": {
        "colab": {
          "base_uri": "https://localhost:8080/"
        },
        "id": "UUAj0l_4xXeh",
        "outputId": "b28a22c4-2fc6-4b86-ccb6-150d53da836b"
      },
      "source": [
        "print(classification_report(y_test, y_pred))"
      ],
      "execution_count": null,
      "outputs": [
        {
          "output_type": "stream",
          "name": "stdout",
          "text": [
            "              precision    recall  f1-score   support\n",
            "\n",
            "           0       0.82      0.82      0.82       108\n",
            "           1       0.58      0.57      0.57        46\n",
            "\n",
            "    accuracy                           0.75       154\n",
            "   macro avg       0.70      0.69      0.70       154\n",
            "weighted avg       0.75      0.75      0.75       154\n",
            "\n"
          ]
        }
      ]
    },
    {
      "cell_type": "markdown",
      "metadata": {
        "id": "HdRR2zeX5dF6"
      },
      "source": [
        "**TASK 1**"
      ]
    },
    {
      "cell_type": "markdown",
      "metadata": {
        "id": "AtBqX4p57x8a"
      },
      "source": [
        "# **DecisionTreeClassifier**"
      ]
    },
    {
      "cell_type": "code",
      "metadata": {
        "id": "4_Gt3f5T7BPd"
      },
      "source": [
        "from sklearn.tree import DecisionTreeClassifier\n",
        "import seaborn as sns"
      ],
      "execution_count": null,
      "outputs": []
    },
    {
      "cell_type": "code",
      "metadata": {
        "id": "Od-TE9ui5tAL"
      },
      "source": [
        "decision_tree = DecisionTreeClassifier(max_depth=4, random_state=0)\n",
        "treeFit = decision_tree.fit(x_train,y_train)\n",
        "y_pred_tree = decision_tree.predict(x_test)"
      ],
      "execution_count": null,
      "outputs": []
    },
    {
      "cell_type": "code",
      "metadata": {
        "colab": {
          "base_uri": "https://localhost:8080/"
        },
        "id": "4yqHjzNA9ekE",
        "outputId": "0ec22e73-1204-469e-fe0d-0bdc59b0061f"
      },
      "source": [
        "print(classification_report(y_test, y_pred_tree))"
      ],
      "execution_count": null,
      "outputs": [
        {
          "output_type": "stream",
          "name": "stdout",
          "text": [
            "              precision    recall  f1-score   support\n",
            "\n",
            "           0       0.80      0.76      0.78       108\n",
            "           1       0.50      0.57      0.53        46\n",
            "\n",
            "    accuracy                           0.70       154\n",
            "   macro avg       0.65      0.66      0.66       154\n",
            "weighted avg       0.71      0.70      0.71       154\n",
            "\n"
          ]
        }
      ]
    },
    {
      "cell_type": "code",
      "metadata": {
        "colab": {
          "base_uri": "https://localhost:8080/"
        },
        "id": "4fjTFMq-9go3",
        "outputId": "869b4dcb-97bc-4b3a-886e-b4ad3f0a5389"
      },
      "source": [
        "confusion_matrix = metrics.confusion_matrix(y_test, y_pred_tree)\n",
        "print(confusion_matrix)\n"
      ],
      "execution_count": null,
      "outputs": [
        {
          "output_type": "stream",
          "name": "stdout",
          "text": [
            "[[82 26]\n",
            " [20 26]]\n"
          ]
        }
      ]
    },
    {
      "cell_type": "code",
      "metadata": {
        "colab": {
          "base_uri": "https://localhost:8080/"
        },
        "id": "wtEbwCml9irQ",
        "outputId": "b932a902-0099-4cf3-d314-a2f55ebbf073"
      },
      "source": [
        "print(\"Decision Tree accuracy: \",decision_tree.score(x_test,y_test))\n"
      ],
      "execution_count": null,
      "outputs": [
        {
          "output_type": "stream",
          "name": "stdout",
          "text": [
            "Decision Tree accuracy:  0.7012987012987013\n"
          ]
        }
      ]
    },
    {
      "cell_type": "code",
      "metadata": {
        "id": "k1NH87Zd9mtU"
      },
      "source": [
        "dtreescore = decision_tree.score(x_test,y_test)"
      ],
      "execution_count": null,
      "outputs": []
    },
    {
      "cell_type": "code",
      "metadata": {
        "colab": {
          "base_uri": "https://localhost:8080/",
          "height": 282
        },
        "id": "2gSjq__e9udF",
        "outputId": "34fbfbc0-83d0-4315-8fc1-52d4df1df9b7"
      },
      "source": [
        "label = [\"0\",\"1\"]\n",
        "sns.heatmap(confusion_matrix, annot=True, xticklabels=label, yticklabels=label)"
      ],
      "execution_count": null,
      "outputs": [
        {
          "output_type": "execute_result",
          "data": {
            "text/plain": [
              "<matplotlib.axes._subplots.AxesSubplot at 0x7fb870af0410>"
            ]
          },
          "metadata": {},
          "execution_count": 35
        },
        {
          "output_type": "display_data",
          "data": {
            "image/png": "[encoded data removed]",
            "text/plain": [
              "<Figure size 432x288 with 2 Axes>"
            ]
          },
          "metadata": {
            "needs_background": "light"
          }
        }
      ]
    },
    {
      "cell_type": "code",
      "metadata": {
        "colab": {
          "base_uri": "https://localhost:8080/"
        },
        "id": "1yhdabb8-eA2",
        "outputId": "9a5ed945-86c5-40ac-98f2-e3f16737efc5"
      },
      "source": [
        "importance = decision_tree.feature_importances_\n",
        "indices = np.argsort(importance)[::-1]\n",
        "print(\"DecisionTree Feature ranking:\")\n",
        "\n",
        "feature_names = df.columns[0:8]\n",
        "for f in range(x_train.shape[1]):\n",
        "    print(\"%d. %s (%f)\" % (f + 1, feature_names[indices[f]], importance[indices[f]]))"
      ],
      "execution_count": null,
      "outputs": [
        {
          "output_type": "stream",
          "name": "stdout",
          "text": [
            "DecisionTree Feature ranking:\n",
            "1. Glucose (0.507249)\n",
            "2. BMI (0.229654)\n",
            "3. Age (0.156548)\n",
            "4. DiabetesPedigreeFunction (0.049308)\n",
            "5. Pregnancies (0.046845)\n",
            "6. BloodPressure (0.010396)\n",
            "7. Insulin (0.000000)\n",
            "8. SkinThickness (0.000000)\n"
          ]
        }
      ]
    },
    {
      "cell_type": "code",
      "metadata": {
        "colab": {
          "base_uri": "https://localhost:8080/",
          "height": 336
        },
        "id": "vQAyurA7AmVZ",
        "outputId": "a1fca41c-d7f9-4650-ac6a-ea284e37f3d1"
      },
      "source": [
        "plt.figure(figsize=(15,5))\n",
        "plt.title(\"DecisionTree Feature importances\")\n",
        "plt.bar(range(feature.shape[1]), importance[indices], color=\"y\", align=\"center\")\n",
        "plt.xticks(range(feature.shape[1]), feature_names[indices])\n",
        "plt.xlim([-1, feature.shape[1]])\n",
        "plt.show()"
      ],
      "execution_count": null,
      "outputs": [
        {
          "output_type": "display_data",
          "data": {
            "image/png": "[encoded data removed]",
            "text/plain": [
              "<Figure size 1080x360 with 1 Axes>"
            ]
          },
          "metadata": {
            "needs_background": "light"
          }
        }
      ]
    },
    {
      "cell_type": "markdown",
      "metadata": {
        "id": "z2ipACg278UM"
      },
      "source": [
        "# **KNN**"
      ]
    },
    {
      "cell_type": "code",
      "metadata": {
        "id": "TOc6Bsn8BCB3"
      },
      "source": [
        "from sklearn.neighbors import KNeighborsClassifier"
      ],
      "execution_count": null,
      "outputs": []
    },
    {
      "cell_type": "code",
      "metadata": {
        "colab": {
          "base_uri": "https://localhost:8080/"
        },
        "id": "HYoWDnqdBELY",
        "outputId": "d927d36c-3660-4ea9-af74-ce246087dc97"
      },
      "source": [
        "knn = KNeighborsClassifier(n_neighbors=21)\n",
        "knn.fit(x_train,y_train)\n",
        "\n",
        "y_pred_knn = knn.predict(x_test)\n",
        "print(metrics.classification_report(y_test, y_pred_knn))"
      ],
      "execution_count": null,
      "outputs": [
        {
          "output_type": "stream",
          "name": "stdout",
          "text": [
            "              precision    recall  f1-score   support\n",
            "\n",
            "           0       0.82      0.87      0.84       108\n",
            "           1       0.64      0.54      0.59        46\n",
            "\n",
            "    accuracy                           0.77       154\n",
            "   macro avg       0.73      0.71      0.72       154\n",
            "weighted avg       0.76      0.77      0.77       154\n",
            "\n"
          ]
        }
      ]
    },
    {
      "cell_type": "code",
      "metadata": {
        "colab": {
          "base_uri": "https://localhost:8080/"
        },
        "id": "rfAY6O4UDTpm",
        "outputId": "5e281686-71d7-4424-d153-2a6353a45fb4"
      },
      "source": [
        "knn_confusion_matrix = metrics.confusion_matrix(y_test, y_pred_knn)\n",
        "print(knn_confusion_matrix)"
      ],
      "execution_count": null,
      "outputs": [
        {
          "output_type": "stream",
          "name": "stdout",
          "text": [
            "[[94 14]\n",
            " [21 25]]\n"
          ]
        }
      ]
    },
    {
      "cell_type": "code",
      "metadata": {
        "colab": {
          "base_uri": "https://localhost:8080/"
        },
        "id": "sI6Prb-3DV8m",
        "outputId": "bd44fc0e-064a-4d32-d10e-2d658f5302a1"
      },
      "source": [
        "print(\"KNN accuracy: \",knn.score(x_test,y_test))\n",
        "knnscore=knn.score(x_test,y_test)"
      ],
      "execution_count": null,
      "outputs": [
        {
          "output_type": "stream",
          "name": "stdout",
          "text": [
            "KNN accuracy:  0.7727272727272727\n"
          ]
        }
      ]
    },
    {
      "cell_type": "code",
      "metadata": {
        "colab": {
          "base_uri": "https://localhost:8080/",
          "height": 282
        },
        "id": "-0zUwP_MD6i3",
        "outputId": "004f0c9a-fd88-4f15-88c8-ceacee3d6660"
      },
      "source": [
        "label = [\"0\",\"1\"]\n",
        "sns.heatmap(knn_confusion_matrix, annot=True, xticklabels=label, yticklabels=label)"
      ],
      "execution_count": null,
      "outputs": [
        {
          "output_type": "execute_result",
          "data": {
            "text/plain": [
              "<matplotlib.axes._subplots.AxesSubplot at 0x7fb870b52810>"
            ]
          },
          "metadata": {},
          "execution_count": 69
        },
        {
          "output_type": "display_data",
          "data": {
            "image/png": "[encoded data removed]",
            "text/plain": [
              "<Figure size 432x288 with 2 Axes>"
            ]
          },
          "metadata": {
            "needs_background": "light"
          }
        }
      ]
    },
    {
      "cell_type": "markdown",
      "metadata": {
        "id": "vcIHZJfFPMFm"
      },
      "source": [
        "# **XGBoost**"
      ]
    },
    {
      "cell_type": "code",
      "metadata": {
        "id": "-IZOp42hPROq"
      },
      "source": [
        "import xgboost as xgb"
      ],
      "execution_count": null,
      "outputs": []
    },
    {
      "cell_type": "code",
      "metadata": {
        "id": "CDVZY70XPPEY"
      },
      "source": [
        "xgb = xgb.XGBClassifier(random_state=1)\n",
        "xgb.fit(x_train, y_train)\n",
        "y_pred_xgb = xgb.predict(x_test)"
      ],
      "execution_count": null,
      "outputs": []
    },
    {
      "cell_type": "code",
      "metadata": {
        "colab": {
          "base_uri": "https://localhost:8080/"
        },
        "id": "n-VH7TwKP8r-",
        "outputId": "b0b23dcc-a395-4acf-d40c-777f8ec4244e"
      },
      "source": [
        "print(metrics.classification_report(y_test, y_pred_xgb))"
      ],
      "execution_count": null,
      "outputs": [
        {
          "output_type": "stream",
          "name": "stdout",
          "text": [
            "              precision    recall  f1-score   support\n",
            "\n",
            "           0       0.82      0.78      0.80       108\n",
            "           1       0.53      0.59      0.56        46\n",
            "\n",
            "    accuracy                           0.72       154\n",
            "   macro avg       0.67      0.68      0.68       154\n",
            "weighted avg       0.73      0.72      0.72       154\n",
            "\n"
          ]
        }
      ]
    },
    {
      "cell_type": "code",
      "metadata": {
        "colab": {
          "base_uri": "https://localhost:8080/"
        },
        "id": "hpLwTcKsQJDI",
        "outputId": "eba83a4c-b4ef-480d-ffaf-cd68a1920f12"
      },
      "source": [
        "xgb_confusion_matrix = metrics.confusion_matrix(y_test, y_pred_xgb)\n",
        "print(xgb_confusion_matrix)"
      ],
      "execution_count": null,
      "outputs": [
        {
          "output_type": "stream",
          "name": "stdout",
          "text": [
            "[[84 24]\n",
            " [19 27]]\n"
          ]
        }
      ]
    },
    {
      "cell_type": "code",
      "metadata": {
        "colab": {
          "base_uri": "https://localhost:8080/"
        },
        "id": "cIGKJ4H-QSt9",
        "outputId": "8ff06d8e-fda4-4c0f-ca97-c4fd68a810d6"
      },
      "source": [
        "print(\"XGB accuracy: \",xgb.score(x_test,y_test))"
      ],
      "execution_count": null,
      "outputs": [
        {
          "output_type": "stream",
          "name": "stdout",
          "text": [
            "XGB accuracy:  0.7207792207792207\n"
          ]
        }
      ]
    },
    {
      "cell_type": "code",
      "metadata": {
        "colab": {
          "base_uri": "https://localhost:8080/",
          "height": 364
        },
        "id": "NFLt-kY1QaYG",
        "outputId": "150a7c98-3d3d-4bfa-f718-ea9e830a26e6"
      },
      "source": [
        "label = [\"0\",\"1\"]\n",
        "sns.heatmap(xgb_confusion_matrix, annot=True, xticklabels=label, yticklabels=label)"
      ],
      "execution_count": null,
      "outputs": [
        {
          "output_type": "execute_result",
          "data": {
            "text/plain": [
              "<matplotlib.axes._subplots.AxesSubplot at 0x7fb8707bacd0>"
            ]
          },
          "metadata": {},
          "execution_count": 96
        },
        {
          "output_type": "display_data",
          "data": {
            "image/png": "[encoded data removed]",
            "text/plain": [
              "<Figure size 576x396 with 2 Axes>"
            ]
          },
          "metadata": {}
        }
      ]
    },
    {
      "cell_type": "markdown",
      "metadata": {
        "id": "t2ZQk5MnQD6Q"
      },
      "source": [
        ""
      ]
    },
    {
      "cell_type": "markdown",
      "metadata": {
        "id": "zhDJ4JwzKH47"
      },
      "source": [
        "# **EVALUATION OF ALGORITHMS**"
      ]
    },
    {
      "cell_type": "code",
      "metadata": {
        "id": "EEndT9H3KPbF"
      },
      "source": [
        "from sklearn.metrics import roc_curve, auc\n",
        "import random"
      ],
      "execution_count": null,
      "outputs": []
    },
    {
      "cell_type": "markdown",
      "metadata": {
        "id": "Ivd9TnXrL7_x"
      },
      "source": [
        "# Decision Tree"
      ]
    },
    {
      "cell_type": "code",
      "metadata": {
        "colab": {
          "base_uri": "https://localhost:8080/",
          "height": 364
        },
        "id": "u1sjiDnnLvbS",
        "outputId": "3d936764-aca9-4189-9f42-0faeb4f44b6a"
      },
      "source": [
        "fpr,tpr,thres = roc_curve(y_test, y_pred_tree)\n",
        "roc_auc = auc(fpr, tpr)\n",
        "plt.plot(fpr, tpr, color='orange', lw=2, label='DecisionTree ROC curve (area = %0.2f)' % roc_auc)"
      ],
      "execution_count": null,
      "outputs": [
        {
          "output_type": "execute_result",
          "data": {
            "text/plain": [
              "[<matplotlib.lines.Line2D at 0x7fb870335d50>]"
            ]
          },
          "metadata": {},
          "execution_count": 82
        },
        {
          "output_type": "display_data",
          "data": {
            "image/png": "[encoded data removed]",
            "text/plain": [
              "<Figure size 576x396 with 1 Axes>"
            ]
          },
          "metadata": {}
        }
      ]
    },
    {
      "cell_type": "markdown",
      "metadata": {
        "id": "JtoRDXLAL--L"
      },
      "source": [
        "# KNN"
      ]
    },
    {
      "cell_type": "code",
      "metadata": {
        "colab": {
          "base_uri": "https://localhost:8080/",
          "height": 364
        },
        "id": "Tb_pD2cPKHiw",
        "outputId": "be7efa66-c669-4bc3-926e-cc8fc88873e1"
      },
      "source": [
        "k_fpr,k_tpr,k_thres = roc_curve(y_test, y_pred_knn)\n",
        "roc_auc = auc(k_fpr, k_tpr)\n",
        "plt.plot(k_fpr, k_tpr, color='green', lw=2, label='KNeighborsClassifier ROC curve (area = %0.2f)' % roc_auc)"
      ],
      "execution_count": null,
      "outputs": [
        {
          "output_type": "execute_result",
          "data": {
            "text/plain": [
              "[<matplotlib.lines.Line2D at 0x7fb870b803d0>]"
            ]
          },
          "metadata": {},
          "execution_count": 85
        },
        {
          "output_type": "display_data",
          "data": {
            "image/png": "[encoded data removed]",
            "text/plain": [
              "<Figure size 576x396 with 1 Axes>"
            ]
          },
          "metadata": {}
        }
      ]
    },
    {
      "cell_type": "markdown",
      "metadata": {
        "id": "fEqBWlhkQiRq"
      },
      "source": [
        "# XGBoost"
      ]
    },
    {
      "cell_type": "code",
      "metadata": {
        "colab": {
          "base_uri": "https://localhost:8080/",
          "height": 364
        },
        "id": "ODAdrmG7QkiU",
        "outputId": "15050136-c0e2-46f1-da35-589bc8f013b3"
      },
      "source": [
        "x_fpr,x_tpr,x_thres = roc_curve(y_test, y_pred_xgb)\n",
        "roc_auc = auc(x_fpr, x_tpr)\n",
        "plt.plot(x_fpr, x_tpr, color='cyan', lw=2, label='XGBoost ROC curve (area = %0.2f)' % roc_auc)"
      ],
      "execution_count": null,
      "outputs": [
        {
          "output_type": "execute_result",
          "data": {
            "text/plain": [
              "[<matplotlib.lines.Line2D at 0x7fb867442410>]"
            ]
          },
          "metadata": {},
          "execution_count": 102
        },
        {
          "output_type": "display_data",
          "data": {
            "image/png": "[encoded data removed]",
            "text/plain": [
              "<Figure size 576x396 with 1 Axes>"
            ]
          },
          "metadata": {}
        }
      ]
    },
    {
      "cell_type": "markdown",
      "metadata": {
        "id": "rnW6gxwAMCCc"
      },
      "source": [
        "# Logistic Regression"
      ]
    },
    {
      "cell_type": "code",
      "metadata": {
        "colab": {
          "base_uri": "https://localhost:8080/",
          "height": 364
        },
        "id": "kvDwUvkKMEas",
        "outputId": "24968dc0-c8d0-484d-828c-80ed8d74f891"
      },
      "source": [
        "l_fpr,l_tpr,l_thres = roc_curve(y_test, y_pred)\n",
        "roc_auc = auc(l_fpr, l_tpr)\n",
        "plt.plot(l_fpr, l_tpr, color='pink', lw=2, label='Logistiic Regression ROC curve (area = %0.2f)' % roc_auc)"
      ],
      "execution_count": null,
      "outputs": [
        {
          "output_type": "execute_result",
          "data": {
            "text/plain": [
              "[<matplotlib.lines.Line2D at 0x7fb870643d10>]"
            ]
          },
          "metadata": {},
          "execution_count": 88
        },
        {
          "output_type": "display_data",
          "data": {
            "image/png": "[encoded data removed]",
            "text/plain": [
              "<Figure size 576x396 with 1 Axes>"
            ]
          },
          "metadata": {}
        }
      ]
    },
    {
      "cell_type": "code",
      "metadata": {
        "colab": {
          "base_uri": "https://localhost:8080/",
          "height": 376
        },
        "id": "_jTwyKXGLDM-",
        "outputId": "60d23716-69f2-4247-b216-0042ca533d68"
      },
      "source": [
        "import matplotlib.pyplot as plt\n",
        "plt.style.use('seaborn')\n",
        "\n",
        "# roc curve for tpr = fpr \n",
        "random_probs = [0 for i in range(len(y_test))]\n",
        "p_fpr, p_tpr, _ = roc_curve(y_test, random_probs, pos_label=1)\n",
        "\n",
        "# plot roc curves\n",
        "plt.plot(fpr, tpr, linestyle='--',color='orange', label='Decision Tree')\n",
        "plt.plot(k_fpr, k_tpr, linestyle='--',color='green', label='KNN')\n",
        "plt.plot(l_fpr, l_tpr, linestyle='--',color='pink', label='Logistic Regression')\n",
        "plt.plot(x_fpr, x_tpr, linestyle='--',color='cyan', label='XGBoost')\n",
        "\n",
        "plt.plot(p_fpr, p_tpr, linestyle='--', color='blue')\n",
        "\n",
        "plt.title('ROC curve')\n",
        "plt.xlabel('False Positive Rate')\n",
        "plt.ylabel('True Positive rate')\n",
        "\n",
        "plt.legend(loc='best')\n",
        "plt.savefig('ROC',dpi=300)\n",
        "plt.show();"
      ],
      "execution_count": null,
      "outputs": [
        {
          "output_type": "display_data",
          "data": {
            "image/png": "[encoded data removed]",
            "text/plain": [
              "<Figure size 576x396 with 1 Axes>"
            ]
          },
          "metadata": {}
        }
      ]
    },
    {
      "cell_type": "markdown",
      "metadata": {
        "id": "Ojzj0eQ-NVy_"
      },
      "source": [
        "It is evident from the plot that the AUC for the **KNN** ROC curve is higher than that for the **Decision Tree, Logistic Regression, XGBoost** ROC curve.  Therefore, we can say that **KNN** did a better job of classifying the positive class in the dataset. Plus **KNN**'s accuracy was the highest - 77.2%"
      ]
    },
    {
      "cell_type": "markdown",
      "metadata": {
        "id": "ivMIAOI2SC9h"
      },
      "source": [
        "\n",
        "\n",
        "\n",
        "\n",
        "\n",
        "\n",
        "\n",
        "\n",
        "\n",
        "\n",
        ".........................................................................................................................................................................................................................................."
      ]
    },
    {
      "cell_type": "markdown",
      "metadata": {
        "id": "UhS3524pxXei"
      },
      "source": [
        "<h2>Task1</h2>\n",
        "<br>\n",
        "<li> Make a comparison for logistic regression and other 3 different classification/clasterisation algorithms for multiclass classification task and find one with overall accuracy more than 90% You can use all available sources \n",
        "<li> Make a comparative analisys for the observed algorithms and highlight why from your potint of view it shows the best result \n",
        "<li> Use the provided dataset for training and testing \n",
        "<li> Use classification report and confusion matrix for evaluation results \n",
        "    <h2>Task 2 </h2>\n",
        "<br>\n",
        "    <li> adopte logistic regressionfor for multiclassifiction on wine quality dataset "
      ]
    },
    {
      "cell_type": "markdown",
      "metadata": {
        "id": "ctMgOBHBZRSI"
      },
      "source": [
        "# **TASK 2**"
      ]
    },
    {
      "cell_type": "code",
      "metadata": {
        "id": "ZhMRjobkXyo-"
      },
      "source": [
        "import torch\n",
        "import torchvision\n",
        "import matplotlib\n",
        "import torch.nn as nn\n",
        "import pandas as pd\n",
        "import matplotlib.pyplot as plt\n",
        "import seaborn as sns\n",
        "import torch.nn.functional as F\n",
        "from torchvision.datasets.utils import download_url\n",
        "from torch.utils.data import DataLoader, TensorDataset, random_split"
      ],
      "execution_count": null,
      "outputs": []
    },
    {
      "cell_type": "code",
      "metadata": {
        "id": "W03uBFfuxXei"
      },
      "source": [
        "df = pd.read_csv('winequality-red.csv', sep = ';')"
      ],
      "execution_count": null,
      "outputs": []
    },
    {
      "cell_type": "code",
      "metadata": {
        "id": "dWCoWlFNxXei",
        "colab": {
          "base_uri": "https://localhost:8080/",
          "height": 434
        },
        "outputId": "1c6b4e47-5e13-46b3-cbc2-dad836cc63ba"
      },
      "source": [
        "df"
      ],
      "execution_count": null,
      "outputs": [
        {
          "output_type": "execute_result",
          "data": {
            "text/html": [
              "<div>\n",
              "<style scoped>\n",
              "    .dataframe tbody tr th:only-of-type {\n",
              "        vertical-align: middle;\n",
              "    }\n",
              "\n",
              "    .dataframe tbody tr th {\n",
              "        vertical-align: top;\n",
              "    }\n",
              "\n",
              "    .dataframe thead th {\n",
              "        text-align: right;\n",
              "    }\n",
              "</style>\n",
              "<table border=\"1\" class=\"dataframe\">\n",
              "  <thead>\n",
              "    <tr style=\"text-align: right;\">\n",
              "      <th></th>\n",
              "      <th>fixed acidity</th>\n",
              "      <th>volatile acidity</th>\n",
              "      <th>citric acid</th>\n",
              "      <th>residual sugar</th>\n",
              "      <th>chlorides</th>\n",
              "      <th>free sulfur dioxide</th>\n",
              "      <th>total sulfur dioxide</th>\n",
              "      <th>density</th>\n",
              "      <th>pH</th>\n",
              "      <th>sulphates</th>\n",
              "      <th>alcohol</th>\n",
              "      <th>quality</th>\n",
              "    </tr>\n",
              "  </thead>\n",
              "  <tbody>\n",
              "    <tr>\n",
              "      <th>0</th>\n",
              "      <td>7.4</td>\n",
              "      <td>0.700</td>\n",
              "      <td>0.00</td>\n",
              "      <td>1.9</td>\n",
              "      <td>0.076</td>\n",
              "      <td>11.0</td>\n",
              "      <td>34.0</td>\n",
              "      <td>0.99780</td>\n",
              "      <td>3.51</td>\n",
              "      <td>0.56</td>\n",
              "      <td>9.4</td>\n",
              "      <td>5</td>\n",
              "    </tr>\n",
              "    <tr>\n",
              "      <th>1</th>\n",
              "      <td>7.8</td>\n",
              "      <td>0.880</td>\n",
              "      <td>0.00</td>\n",
              "      <td>2.6</td>\n",
              "      <td>0.098</td>\n",
              "      <td>25.0</td>\n",
              "      <td>67.0</td>\n",
              "      <td>0.99680</td>\n",
              "      <td>3.20</td>\n",
              "      <td>0.68</td>\n",
              "      <td>9.8</td>\n",
              "      <td>5</td>\n",
              "    </tr>\n",
              "    <tr>\n",
              "      <th>2</th>\n",
              "      <td>7.8</td>\n",
              "      <td>0.760</td>\n",
              "      <td>0.04</td>\n",
              "      <td>2.3</td>\n",
              "      <td>0.092</td>\n",
              "      <td>15.0</td>\n",
              "      <td>54.0</td>\n",
              "      <td>0.99700</td>\n",
              "      <td>3.26</td>\n",
              "      <td>0.65</td>\n",
              "      <td>9.8</td>\n",
              "      <td>5</td>\n",
              "    </tr>\n",
              "    <tr>\n",
              "      <th>3</th>\n",
              "      <td>11.2</td>\n",
              "      <td>0.280</td>\n",
              "      <td>0.56</td>\n",
              "      <td>1.9</td>\n",
              "      <td>0.075</td>\n",
              "      <td>17.0</td>\n",
              "      <td>60.0</td>\n",
              "      <td>0.99800</td>\n",
              "      <td>3.16</td>\n",
              "      <td>0.58</td>\n",
              "      <td>9.8</td>\n",
              "      <td>6</td>\n",
              "    </tr>\n",
              "    <tr>\n",
              "      <th>4</th>\n",
              "      <td>7.4</td>\n",
              "      <td>0.700</td>\n",
              "      <td>0.00</td>\n",
              "      <td>1.9</td>\n",
              "      <td>0.076</td>\n",
              "      <td>11.0</td>\n",
              "      <td>34.0</td>\n",
              "      <td>0.99780</td>\n",
              "      <td>3.51</td>\n",
              "      <td>0.56</td>\n",
              "      <td>9.4</td>\n",
              "      <td>5</td>\n",
              "    </tr>\n",
              "    <tr>\n",
              "      <th>...</th>\n",
              "      <td>...</td>\n",
              "      <td>...</td>\n",
              "      <td>...</td>\n",
              "      <td>...</td>\n",
              "      <td>...</td>\n",
              "      <td>...</td>\n",
              "      <td>...</td>\n",
              "      <td>...</td>\n",
              "      <td>...</td>\n",
              "      <td>...</td>\n",
              "      <td>...</td>\n",
              "      <td>...</td>\n",
              "    </tr>\n",
              "    <tr>\n",
              "      <th>1594</th>\n",
              "      <td>6.2</td>\n",
              "      <td>0.600</td>\n",
              "      <td>0.08</td>\n",
              "      <td>2.0</td>\n",
              "      <td>0.090</td>\n",
              "      <td>32.0</td>\n",
              "      <td>44.0</td>\n",
              "      <td>0.99490</td>\n",
              "      <td>3.45</td>\n",
              "      <td>0.58</td>\n",
              "      <td>10.5</td>\n",
              "      <td>5</td>\n",
              "    </tr>\n",
              "    <tr>\n",
              "      <th>1595</th>\n",
              "      <td>5.9</td>\n",
              "      <td>0.550</td>\n",
              "      <td>0.10</td>\n",
              "      <td>2.2</td>\n",
              "      <td>0.062</td>\n",
              "      <td>39.0</td>\n",
              "      <td>51.0</td>\n",
              "      <td>0.99512</td>\n",
              "      <td>3.52</td>\n",
              "      <td>0.76</td>\n",
              "      <td>11.2</td>\n",
              "      <td>6</td>\n",
              "    </tr>\n",
              "    <tr>\n",
              "      <th>1596</th>\n",
              "      <td>6.3</td>\n",
              "      <td>0.510</td>\n",
              "      <td>0.13</td>\n",
              "      <td>2.3</td>\n",
              "      <td>0.076</td>\n",
              "      <td>29.0</td>\n",
              "      <td>40.0</td>\n",
              "      <td>0.99574</td>\n",
              "      <td>3.42</td>\n",
              "      <td>0.75</td>\n",
              "      <td>11.0</td>\n",
              "      <td>6</td>\n",
              "    </tr>\n",
              "    <tr>\n",
              "      <th>1597</th>\n",
              "      <td>5.9</td>\n",
              "      <td>0.645</td>\n",
              "      <td>0.12</td>\n",
              "      <td>2.0</td>\n",
              "      <td>0.075</td>\n",
              "      <td>32.0</td>\n",
              "      <td>44.0</td>\n",
              "      <td>0.99547</td>\n",
              "      <td>3.57</td>\n",
              "      <td>0.71</td>\n",
              "      <td>10.2</td>\n",
              "      <td>5</td>\n",
              "    </tr>\n",
              "    <tr>\n",
              "      <th>1598</th>\n",
              "      <td>6.0</td>\n",
              "      <td>0.310</td>\n",
              "      <td>0.47</td>\n",
              "      <td>3.6</td>\n",
              "      <td>0.067</td>\n",
              "      <td>18.0</td>\n",
              "      <td>42.0</td>\n",
              "      <td>0.99549</td>\n",
              "      <td>3.39</td>\n",
              "      <td>0.66</td>\n",
              "      <td>11.0</td>\n",
              "      <td>6</td>\n",
              "    </tr>\n",
              "  </tbody>\n",
              "</table>\n",
              "<p>1599 rows × 12 columns</p>\n",
              "</div>"
            ],
            "text/plain": [
              "      fixed acidity  volatile acidity  citric acid  ...  sulphates  alcohol  quality\n",
              "0               7.4             0.700         0.00  ...       0.56      9.4        5\n",
              "1               7.8             0.880         0.00  ...       0.68      9.8        5\n",
              "2               7.8             0.760         0.04  ...       0.65      9.8        5\n",
              "3              11.2             0.280         0.56  ...       0.58      9.8        6\n",
              "4               7.4             0.700         0.00  ...       0.56      9.4        5\n",
              "...             ...               ...          ...  ...        ...      ...      ...\n",
              "1594            6.2             0.600         0.08  ...       0.58     10.5        5\n",
              "1595            5.9             0.550         0.10  ...       0.76     11.2        6\n",
              "1596            6.3             0.510         0.13  ...       0.75     11.0        6\n",
              "1597            5.9             0.645         0.12  ...       0.71     10.2        5\n",
              "1598            6.0             0.310         0.47  ...       0.66     11.0        6\n",
              "\n",
              "[1599 rows x 12 columns]"
            ]
          },
          "metadata": {},
          "execution_count": 114
        }
      ]
    },
    {
      "cell_type": "code",
      "metadata": {
        "colab": {
          "base_uri": "https://localhost:8080/"
        },
        "id": "rTXidVllVng_",
        "outputId": "c75cd28c-37c0-4649-9053-ce0ab058165b"
      },
      "source": [
        "df.shape\n"
      ],
      "execution_count": null,
      "outputs": [
        {
          "output_type": "execute_result",
          "data": {
            "text/plain": [
              "(1599, 12)"
            ]
          },
          "metadata": {},
          "execution_count": 115
        }
      ]
    },
    {
      "cell_type": "code",
      "metadata": {
        "id": "FpORyNxcxXej",
        "colab": {
          "base_uri": "https://localhost:8080/"
        },
        "outputId": "b6a6f0ff-d0b6-48c2-c452-7bc0cdc8238a"
      },
      "source": [
        "input_cols=list(df.columns)[:-1]\n",
        "output_cols = ['quality']\n",
        "input_cols,output_cols"
      ],
      "execution_count": null,
      "outputs": [
        {
          "output_type": "execute_result",
          "data": {
            "text/plain": [
              "(['fixed acidity',\n",
              "  'volatile acidity',\n",
              "  'citric acid',\n",
              "  'residual sugar',\n",
              "  'chlorides',\n",
              "  'free sulfur dioxide',\n",
              "  'total sulfur dioxide',\n",
              "  'density',\n",
              "  'pH',\n",
              "  'sulphates',\n",
              "  'alcohol'],\n",
              " ['quality'])"
            ]
          },
          "metadata": {},
          "execution_count": 116
        }
      ]
    },
    {
      "cell_type": "code",
      "metadata": {
        "id": "OwOhRIsDWGmV"
      },
      "source": [
        "def dataframe_to_arrays(dataframe):\n",
        "    # Make a copy of the original dataframe\n",
        "    dataframe1 = df.copy(deep=True)\n",
        "\n",
        "    # Extract input & outupts as numpy arrays\n",
        "    inputs_array = dataframe1[input_cols].to_numpy()\n",
        "    targets_array = dataframe1[output_cols].to_numpy()\n",
        "    return inputs_array, targets_array"
      ],
      "execution_count": null,
      "outputs": []
    },
    {
      "cell_type": "code",
      "metadata": {
        "colab": {
          "base_uri": "https://localhost:8080/"
        },
        "id": "91ESED5lWNEk",
        "outputId": "a879654a-7eea-4d37-c9f1-4db67015ef02"
      },
      "source": [
        "inputs_array, targets_array = dataframe_to_arrays(df)\n",
        "inputs_array, targets_array"
      ],
      "execution_count": null,
      "outputs": [
        {
          "output_type": "execute_result",
          "data": {
            "text/plain": [
              "(array([[ 7.4  ,  0.7  ,  0.   , ...,  3.51 ,  0.56 ,  9.4  ],\n",
              "        [ 7.8  ,  0.88 ,  0.   , ...,  3.2  ,  0.68 ,  9.8  ],\n",
              "        [ 7.8  ,  0.76 ,  0.04 , ...,  3.26 ,  0.65 ,  9.8  ],\n",
              "        ...,\n",
              "        [ 6.3  ,  0.51 ,  0.13 , ...,  3.42 ,  0.75 , 11.   ],\n",
              "        [ 5.9  ,  0.645,  0.12 , ...,  3.57 ,  0.71 , 10.2  ],\n",
              "        [ 6.   ,  0.31 ,  0.47 , ...,  3.39 ,  0.66 , 11.   ]]), array([[5],\n",
              "        [5],\n",
              "        [5],\n",
              "        ...,\n",
              "        [6],\n",
              "        [5],\n",
              "        [6]]))"
            ]
          },
          "metadata": {},
          "execution_count": 131
        }
      ]
    },
    {
      "cell_type": "code",
      "metadata": {
        "colab": {
          "base_uri": "https://localhost:8080/"
        },
        "id": "go0vLHCaXmOr",
        "outputId": "fa85a00e-10cb-4aa3-e212-7908c1ea80f6"
      },
      "source": [
        "inputs = torch.from_numpy(inputs_array).type(torch.float)\n",
        "targets = torch.from_numpy(targets_array).type(torch.float)\n",
        "inputs,targets"
      ],
      "execution_count": null,
      "outputs": [
        {
          "output_type": "execute_result",
          "data": {
            "text/plain": [
              "(tensor([[ 7.4000,  0.7000,  0.0000,  ...,  3.5100,  0.5600,  9.4000],\n",
              "         [ 7.8000,  0.8800,  0.0000,  ...,  3.2000,  0.6800,  9.8000],\n",
              "         [ 7.8000,  0.7600,  0.0400,  ...,  3.2600,  0.6500,  9.8000],\n",
              "         ...,\n",
              "         [ 6.3000,  0.5100,  0.1300,  ...,  3.4200,  0.7500, 11.0000],\n",
              "         [ 5.9000,  0.6450,  0.1200,  ...,  3.5700,  0.7100, 10.2000],\n",
              "         [ 6.0000,  0.3100,  0.4700,  ...,  3.3900,  0.6600, 11.0000]]),\n",
              " tensor([[5.],\n",
              "         [5.],\n",
              "         [5.],\n",
              "         ...,\n",
              "         [6.],\n",
              "         [5.],\n",
              "         [6.]]))"
            ]
          },
          "metadata": {},
          "execution_count": 132
        }
      ]
    },
    {
      "cell_type": "code",
      "metadata": {
        "colab": {
          "base_uri": "https://localhost:8080/"
        },
        "id": "C-42HT-gXqU5",
        "outputId": "314bc96b-8de9-462f-9b14-658663700161"
      },
      "source": [
        "print('Shape of input tensor and target tensor::  ',inputs.shape, targets.shape)\n",
        "print('datatype of input tensor and target tensor::  ',inputs.dtype, targets.dtype)"
      ],
      "execution_count": null,
      "outputs": [
        {
          "output_type": "stream",
          "name": "stdout",
          "text": [
            "Shape of input tensor and target tensor::   torch.Size([1599, 11]) torch.Size([1599, 1])\n",
            "datatype of input tensor and target tensor::   torch.float32 torch.float32\n"
          ]
        }
      ]
    },
    {
      "cell_type": "code",
      "metadata": {
        "colab": {
          "base_uri": "https://localhost:8080/"
        },
        "id": "woHEO-djXs5J",
        "outputId": "d3bef0da-d228-4ee6-bd73-6c76cb3b9971"
      },
      "source": [
        "dataset = TensorDataset(inputs, targets)\n",
        "dataset"
      ],
      "execution_count": null,
      "outputs": [
        {
          "output_type": "execute_result",
          "data": {
            "text/plain": [
              "<torch.utils.data.dataset.TensorDataset at 0x7fb8658296d0>"
            ]
          },
          "metadata": {},
          "execution_count": 136
        }
      ]
    },
    {
      "cell_type": "code",
      "metadata": {
        "id": "B_xRcH2YX4bU"
      },
      "source": [
        "train_ds, val_ds = random_split(dataset, [1300, 299])\n",
        "batch_size=50\n",
        "train_loader = DataLoader(train_ds, batch_size, shuffle=True)\n",
        "val_loader = DataLoader(val_ds, batch_size)"
      ],
      "execution_count": null,
      "outputs": []
    },
    {
      "cell_type": "code",
      "metadata": {
        "colab": {
          "base_uri": "https://localhost:8080/"
        },
        "id": "Um3UCmODX6VD",
        "outputId": "cc85b162-7a57-404b-e46b-4835a8be3ea6"
      },
      "source": [
        "for xb, yb in train_loader:\n",
        "    print(\"inputs:\", xb)\n",
        "    print(\"targets:\", yb)\n",
        "    break"
      ],
      "execution_count": null,
      "outputs": [
        {
          "output_type": "stream",
          "name": "stdout",
          "text": [
            "inputs: tensor([[7.5000e+00, 5.8000e-01, 3.0000e-02, 4.1000e+00, 8.0000e-02, 2.7000e+01,\n",
            "         4.6000e+01, 9.9592e-01, 3.0200e+00, 4.7000e-01, 9.2000e+00],\n",
            "        [7.7000e+00, 4.9000e-01, 2.6000e-01, 1.9000e+00, 6.2000e-02, 9.0000e+00,\n",
            "         3.1000e+01, 9.9660e-01, 3.3900e+00, 6.4000e-01, 9.6000e+00],\n",
            "        [9.1000e+00, 2.1000e-01, 3.7000e-01, 1.6000e+00, 6.7000e-02, 6.0000e+00,\n",
            "         1.0000e+01, 9.9552e-01, 3.2300e+00, 5.8000e-01, 1.1100e+01],\n",
            "        [7.4000e+00, 5.3000e-01, 1.2000e-01, 1.9000e+00, 1.6500e-01, 4.0000e+00,\n",
            "         1.2000e+01, 9.9702e-01, 3.2600e+00, 8.6000e-01, 9.2000e+00],\n",
            "        [6.7000e+00, 7.5000e-01, 1.0000e-02, 2.4000e+00, 7.8000e-02, 1.7000e+01,\n",
            "         3.2000e+01, 9.9550e-01, 3.5500e+00, 6.1000e-01, 1.2800e+01],\n",
            "        [6.6000e+00, 7.3500e-01, 2.0000e-02, 7.9000e+00, 1.2200e-01, 6.8000e+01,\n",
            "         1.2400e+02, 9.9940e-01, 3.4700e+00, 5.3000e-01, 9.9000e+00],\n",
            "        [7.0000e+00, 6.5000e-01, 2.0000e-02, 2.1000e+00, 6.6000e-02, 8.0000e+00,\n",
            "         2.5000e+01, 9.9720e-01, 3.4700e+00, 6.7000e-01, 9.5000e+00],\n",
            "        [7.5000e+00, 5.0000e-01, 3.6000e-01, 6.1000e+00, 7.1000e-02, 1.7000e+01,\n",
            "         1.0200e+02, 9.9780e-01, 3.3500e+00, 8.0000e-01, 1.0500e+01],\n",
            "        [7.8000e+00, 5.0000e-01, 1.7000e-01, 1.6000e+00, 8.2000e-02, 2.1000e+01,\n",
            "         1.0200e+02, 9.9600e-01, 3.3900e+00, 4.8000e-01, 9.5000e+00],\n",
            "        [7.6000e+00, 9.0000e-01, 6.0000e-02, 2.5000e+00, 7.9000e-02, 5.0000e+00,\n",
            "         1.0000e+01, 9.9670e-01, 3.3900e+00, 5.6000e-01, 9.8000e+00],\n",
            "        [1.2700e+01, 6.0000e-01, 4.9000e-01, 2.8000e+00, 7.5000e-02, 5.0000e+00,\n",
            "         1.9000e+01, 9.9940e-01, 3.1400e+00, 5.7000e-01, 1.1400e+01],\n",
            "        [7.4000e+00, 3.5000e-01, 3.3000e-01, 2.4000e+00, 6.8000e-02, 9.0000e+00,\n",
            "         2.6000e+01, 9.9470e-01, 3.3600e+00, 6.0000e-01, 1.1900e+01],\n",
            "        [1.1900e+01, 3.9000e-01, 6.9000e-01, 2.8000e+00, 9.5000e-02, 1.7000e+01,\n",
            "         3.5000e+01, 9.9940e-01, 3.1000e+00, 6.1000e-01, 1.0800e+01],\n",
            "        [7.9000e+00, 4.0000e-01, 2.9000e-01, 1.8000e+00, 1.5700e-01, 1.0000e+00,\n",
            "         4.4000e+01, 9.9730e-01, 3.3000e+00, 9.2000e-01, 9.5000e+00],\n",
            "        [7.1000e+00, 4.3000e-01, 4.2000e-01, 5.5000e+00, 7.0000e-02, 2.9000e+01,\n",
            "         1.2900e+02, 9.9730e-01, 3.4200e+00, 7.2000e-01, 1.0500e+01],\n",
            "        [7.2000e+00, 6.9500e-01, 1.3000e-01, 2.0000e+00, 7.6000e-02, 1.2000e+01,\n",
            "         2.0000e+01, 9.9546e-01, 3.2900e+00, 5.4000e-01, 1.0100e+01],\n",
            "        [8.1000e+00, 8.2500e-01, 2.4000e-01, 2.1000e+00, 8.4000e-02, 5.0000e+00,\n",
            "         1.3000e+01, 9.9720e-01, 3.3700e+00, 7.7000e-01, 1.0700e+01],\n",
            "        [1.0300e+01, 2.7000e-01, 2.4000e-01, 2.1000e+00, 7.2000e-02, 1.5000e+01,\n",
            "         3.3000e+01, 9.9560e-01, 3.2200e+00, 6.6000e-01, 1.2800e+01],\n",
            "        [8.7000e+00, 7.8000e-01, 5.1000e-01, 1.7000e+00, 4.1500e-01, 1.2000e+01,\n",
            "         6.6000e+01, 9.9623e-01, 3.0000e+00, 1.1700e+00, 9.2000e+00],\n",
            "        [7.7000e+00, 3.9000e-01, 1.2000e-01, 1.7000e+00, 9.7000e-02, 1.9000e+01,\n",
            "         2.7000e+01, 9.9596e-01, 3.1600e+00, 4.9000e-01, 9.4000e+00],\n",
            "        [6.8000e+00, 6.1000e-01, 4.0000e-02, 1.5000e+00, 5.7000e-02, 5.0000e+00,\n",
            "         1.0000e+01, 9.9525e-01, 3.4200e+00, 6.0000e-01, 9.5000e+00],\n",
            "        [7.2000e+00, 3.8000e-01, 3.0000e-01, 1.8000e+00, 7.3000e-02, 3.1000e+01,\n",
            "         7.0000e+01, 9.9685e-01, 3.4200e+00, 5.9000e-01, 9.5000e+00],\n",
            "        [1.3500e+01, 5.3000e-01, 7.9000e-01, 4.8000e+00, 1.2000e-01, 2.3000e+01,\n",
            "         7.7000e+01, 1.0018e+00, 3.1800e+00, 7.7000e-01, 1.3000e+01],\n",
            "        [7.0000e+00, 6.8500e-01, 0.0000e+00, 1.9000e+00, 6.7000e-02, 4.0000e+01,\n",
            "         6.3000e+01, 9.9790e-01, 3.6000e+00, 8.1000e-01, 9.9000e+00],\n",
            "        [8.0000e+00, 4.2000e-01, 1.7000e-01, 2.0000e+00, 7.3000e-02, 6.0000e+00,\n",
            "         1.8000e+01, 9.9720e-01, 3.2900e+00, 6.1000e-01, 9.2000e+00],\n",
            "        [8.1000e+00, 7.8000e-01, 2.3000e-01, 2.6000e+00, 5.9000e-02, 5.0000e+00,\n",
            "         1.5000e+01, 9.9700e-01, 3.3700e+00, 5.6000e-01, 1.1300e+01],\n",
            "        [9.9000e+00, 3.5000e-01, 3.8000e-01, 1.5000e+00, 5.8000e-02, 3.1000e+01,\n",
            "         4.7000e+01, 9.9676e-01, 3.2600e+00, 8.2000e-01, 1.0600e+01],\n",
            "        [8.3000e+00, 6.5000e-01, 1.0000e-01, 2.9000e+00, 8.9000e-02, 1.7000e+01,\n",
            "         4.0000e+01, 9.9803e-01, 3.2900e+00, 5.5000e-01, 9.5000e+00],\n",
            "        [8.3000e+00, 3.0000e-01, 4.9000e-01, 3.8000e+00, 9.0000e-02, 1.1000e+01,\n",
            "         2.4000e+01, 9.9498e-01, 3.2700e+00, 6.4000e-01, 1.2100e+01],\n",
            "        [7.8000e+00, 4.4000e-01, 2.8000e-01, 2.7000e+00, 1.0000e-01, 1.8000e+01,\n",
            "         9.5000e+01, 9.9660e-01, 3.2200e+00, 6.7000e-01, 9.4000e+00],\n",
            "        [8.0000e+00, 6.0000e-01, 2.2000e-01, 2.1000e+00, 8.0000e-02, 2.5000e+01,\n",
            "         1.0500e+02, 9.9613e-01, 3.3000e+00, 4.9000e-01, 9.9000e+00],\n",
            "        [6.8000e+00, 6.7000e-01, 1.5000e-01, 1.8000e+00, 1.1800e-01, 1.3000e+01,\n",
            "         2.0000e+01, 9.9540e-01, 3.4200e+00, 6.7000e-01, 1.1300e+01],\n",
            "        [7.3000e+00, 3.4000e-01, 3.3000e-01, 2.5000e+00, 6.4000e-02, 2.1000e+01,\n",
            "         3.7000e+01, 9.9520e-01, 3.3500e+00, 7.7000e-01, 1.2100e+01],\n",
            "        [7.4000e+00, 6.0000e-01, 2.6000e-01, 7.3000e+00, 7.0000e-02, 3.6000e+01,\n",
            "         1.2100e+02, 9.9820e-01, 3.3700e+00, 4.9000e-01, 9.4000e+00],\n",
            "        [7.8000e+00, 8.7000e-01, 2.6000e-01, 3.8000e+00, 1.0700e-01, 3.1000e+01,\n",
            "         6.7000e+01, 9.9668e-01, 3.2600e+00, 4.6000e-01, 9.2000e+00],\n",
            "        [6.5000e+00, 6.1500e-01, 0.0000e+00, 1.9000e+00, 6.5000e-02, 9.0000e+00,\n",
            "         1.8000e+01, 9.9720e-01, 3.4600e+00, 6.5000e-01, 9.2000e+00],\n",
            "        [8.4000e+00, 5.6000e-01, 8.0000e-02, 2.1000e+00, 1.0500e-01, 1.6000e+01,\n",
            "         4.4000e+01, 9.9580e-01, 3.1300e+00, 5.2000e-01, 1.1000e+01],\n",
            "        [1.2300e+01, 2.7000e-01, 4.9000e-01, 3.1000e+00, 7.9000e-02, 2.8000e+01,\n",
            "         4.6000e+01, 9.9930e-01, 3.2000e+00, 8.0000e-01, 1.0200e+01],\n",
            "        [1.1900e+01, 4.0000e-01, 6.5000e-01, 2.1500e+00, 6.8000e-02, 7.0000e+00,\n",
            "         2.7000e+01, 9.9880e-01, 3.0600e+00, 6.8000e-01, 1.1300e+01],\n",
            "        [6.2000e+00, 6.3000e-01, 3.1000e-01, 1.7000e+00, 8.8000e-02, 1.5000e+01,\n",
            "         6.4000e+01, 9.9690e-01, 3.4600e+00, 7.9000e-01, 9.3000e+00],\n",
            "        [7.5000e+00, 6.0000e-01, 3.0000e-02, 1.8000e+00, 9.5000e-02, 2.5000e+01,\n",
            "         9.9000e+01, 9.9500e-01, 3.3500e+00, 5.4000e-01, 1.0100e+01],\n",
            "        [9.1000e+00, 2.5000e-01, 3.4000e-01, 2.0000e+00, 7.1000e-02, 4.5000e+01,\n",
            "         6.7000e+01, 9.9769e-01, 3.4400e+00, 8.6000e-01, 1.0200e+01],\n",
            "        [9.8000e+00, 3.4000e-01, 3.9000e-01, 1.4000e+00, 6.6000e-02, 3.0000e+00,\n",
            "         7.0000e+00, 9.9470e-01, 3.1900e+00, 5.5000e-01, 1.1400e+01],\n",
            "        [7.1000e+00, 6.0000e-01, 0.0000e+00, 1.8000e+00, 7.4000e-02, 1.6000e+01,\n",
            "         3.4000e+01, 9.9720e-01, 3.4700e+00, 7.0000e-01, 9.9000e+00],\n",
            "        [9.4000e+00, 3.9500e-01, 4.6000e-01, 4.6000e+00, 9.4000e-02, 3.0000e+00,\n",
            "         1.0000e+01, 9.9639e-01, 3.2700e+00, 6.4000e-01, 1.2200e+01],\n",
            "        [5.3000e+00, 7.1500e-01, 1.9000e-01, 1.5000e+00, 1.6100e-01, 7.0000e+00,\n",
            "         6.2000e+01, 9.9395e-01, 3.6200e+00, 6.1000e-01, 1.1000e+01],\n",
            "        [6.5000e+00, 5.8000e-01, 0.0000e+00, 2.2000e+00, 9.6000e-02, 3.0000e+00,\n",
            "         1.3000e+01, 9.9557e-01, 3.6200e+00, 6.2000e-01, 1.1500e+01],\n",
            "        [7.6000e+00, 6.8500e-01, 2.3000e-01, 2.3000e+00, 1.1100e-01, 2.0000e+01,\n",
            "         8.4000e+01, 9.9640e-01, 3.2100e+00, 6.1000e-01, 9.3000e+00],\n",
            "        [6.8000e+00, 6.9000e-01, 0.0000e+00, 5.6000e+00, 1.2400e-01, 2.1000e+01,\n",
            "         5.8000e+01, 9.9970e-01, 3.4600e+00, 7.2000e-01, 1.0200e+01],\n",
            "        [6.3000e+00, 4.7000e-01, 0.0000e+00, 1.4000e+00, 5.5000e-02, 2.7000e+01,\n",
            "         3.3000e+01, 9.9220e-01, 3.4500e+00, 4.8000e-01, 1.2300e+01]])\n",
            "targets: tensor([[5.],\n",
            "        [5.],\n",
            "        [7.],\n",
            "        [5.],\n",
            "        [6.],\n",
            "        [5.],\n",
            "        [6.],\n",
            "        [5.],\n",
            "        [5.],\n",
            "        [5.],\n",
            "        [5.],\n",
            "        [6.],\n",
            "        [6.],\n",
            "        [6.],\n",
            "        [5.],\n",
            "        [5.],\n",
            "        [6.],\n",
            "        [6.],\n",
            "        [5.],\n",
            "        [5.],\n",
            "        [5.],\n",
            "        [6.],\n",
            "        [5.],\n",
            "        [5.],\n",
            "        [6.],\n",
            "        [5.],\n",
            "        [7.],\n",
            "        [5.],\n",
            "        [7.],\n",
            "        [5.],\n",
            "        [5.],\n",
            "        [6.],\n",
            "        [7.],\n",
            "        [5.],\n",
            "        [5.],\n",
            "        [5.],\n",
            "        [5.],\n",
            "        [6.],\n",
            "        [6.],\n",
            "        [5.],\n",
            "        [5.],\n",
            "        [7.],\n",
            "        [7.],\n",
            "        [6.],\n",
            "        [7.],\n",
            "        [5.],\n",
            "        [4.],\n",
            "        [5.],\n",
            "        [5.],\n",
            "        [6.]])\n"
          ]
        }
      ]
    },
    {
      "cell_type": "code",
      "metadata": {
        "colab": {
          "base_uri": "https://localhost:8080/"
        },
        "id": "cHAKx9A-YBaQ",
        "outputId": "b4ae1715-9abc-469c-88e8-c53ed4f5cfbe"
      },
      "source": [
        " print(xb.dtype,yb.dtype)"
      ],
      "execution_count": null,
      "outputs": [
        {
          "output_type": "stream",
          "name": "stdout",
          "text": [
            "torch.float32 torch.float32\n"
          ]
        }
      ]
    },
    {
      "cell_type": "code",
      "metadata": {
        "colab": {
          "base_uri": "https://localhost:8080/"
        },
        "id": "RcLpXXm6YEC8",
        "outputId": "6bcb21ce-cb1a-4c91-8e9b-ae4d7ca83a5b"
      },
      "source": [
        "input_size = len(input_cols)\n",
        "output_size = len(output_cols)\n",
        "input_size,output_size"
      ],
      "execution_count": null,
      "outputs": [
        {
          "output_type": "execute_result",
          "data": {
            "text/plain": [
              "(11, 1)"
            ]
          },
          "metadata": {},
          "execution_count": 140
        }
      ]
    },
    {
      "cell_type": "code",
      "metadata": {
        "id": "vXE8y3OHYJQU"
      },
      "source": [
        "class WineQuality(nn.Module):\n",
        "    def __init__(self):\n",
        "        super().__init__()\n",
        "        self.linear = nn.Linear(input_size,output_size) \n",
        "        \n",
        "    def forward(self, xb): \n",
        "        out = self.linear(xb) \n",
        "        return out\n",
        "    \n",
        "    def training_step(self, batch):\n",
        "        inputs, targets = batch \n",
        "        out = self(inputs)          \n",
        "        loss = F.l1_loss(out,targets) \n",
        "        return loss\n",
        "    \n",
        "    def validation_step(self, batch):\n",
        "        inputs, targets = batch\n",
        "        out = self(inputs)\n",
        "        loss = F.l1_loss(out,targets)    \n",
        "        return {'val_loss': loss.detach()}\n",
        "        \n",
        "    def validation_epoch_end(self, outputs):\n",
        "        batch_losses = [x['val_loss'] for x in outputs]\n",
        "        epoch_loss = torch.stack(batch_losses).mean()\n",
        "        return {'val_loss': epoch_loss.item()}\n",
        "    \n",
        "    def epoch_end(self, epoch, result, num_epochs):\n",
        "        if (epoch+1) % 100 == 0 or epoch == num_epochs-1:\n",
        "            print(\"Epoch [{}], val_loss: {:.4f}\".format(epoch+1, result['val_loss']))"
      ],
      "execution_count": null,
      "outputs": []
    },
    {
      "cell_type": "code",
      "metadata": {
        "id": "nkxIDX9WYNm-"
      },
      "source": [
        "model=WineQuality()"
      ],
      "execution_count": null,
      "outputs": []
    },
    {
      "cell_type": "code",
      "metadata": {
        "colab": {
          "base_uri": "https://localhost:8080/"
        },
        "id": "q-wPCVD4YPyh",
        "outputId": "b3c676c5-692a-49ec-eced-01c3e5360337"
      },
      "source": [
        "list(model.parameters())"
      ],
      "execution_count": null,
      "outputs": [
        {
          "output_type": "execute_result",
          "data": {
            "text/plain": [
              "[Parameter containing:\n",
              " tensor([[ 0.1428, -0.1253,  0.0285,  0.2116,  0.2762, -0.2254,  0.1328, -0.0207,\n",
              "          -0.1450, -0.2100, -0.0777]], requires_grad=True),\n",
              " Parameter containing:\n",
              " tensor([-0.1047], requires_grad=True)]"
            ]
          },
          "metadata": {},
          "execution_count": 143
        }
      ]
    },
    {
      "cell_type": "code",
      "metadata": {
        "id": "9_sf4PAAYSNS"
      },
      "source": [
        "def evaluate(model, val_loader):\n",
        "    outputs = [model.validation_step(batch) for batch in val_loader]\n",
        "    return model.validation_epoch_end(outputs)\n",
        "\n",
        "def fit(epochs, lr, model, train_loader, val_loader, opt_func=torch.optim.SGD):\n",
        "    history = []\n",
        "    optimizer = opt_func(model.parameters(), lr)\n",
        "    for epoch in range(epochs):\n",
        "        # Training Phase \n",
        "        for batch in train_loader:\n",
        "            loss = model.training_step(batch)\n",
        "            loss.backward()\n",
        "            optimizer.step()\n",
        "            optimizer.zero_grad()\n",
        "        # Validation phase\n",
        "        result = evaluate(model, val_loader)\n",
        "        model.epoch_end(epoch, result, epochs)\n",
        "        history.append(result)\n",
        "    return history"
      ],
      "execution_count": null,
      "outputs": []
    },
    {
      "cell_type": "code",
      "metadata": {
        "colab": {
          "base_uri": "https://localhost:8080/"
        },
        "id": "rrHgJXcjYUZ8",
        "outputId": "04598177-97b7-4f50-d50c-3549443a37e2"
      },
      "source": [
        "result = evaluate(model, val_loader)\n",
        "print(result)"
      ],
      "execution_count": null,
      "outputs": [
        {
          "output_type": "stream",
          "name": "stdout",
          "text": [
            "{'val_loss': 4.149383068084717}\n"
          ]
        }
      ]
    },
    {
      "cell_type": "code",
      "metadata": {
        "colab": {
          "base_uri": "https://localhost:8080/"
        },
        "id": "n0o8MnilYgfI",
        "outputId": "3da8e896-8a07-47b6-c78c-e31ee7f27709"
      },
      "source": [
        "epochs = 1000\n",
        "lr = 1e-2 \n",
        "history1 = fit(epochs, lr, model, train_loader, val_loader)"
      ],
      "execution_count": null,
      "outputs": [
        {
          "output_type": "stream",
          "name": "stdout",
          "text": [
            "Epoch [100], val_loss: 12.8581\n",
            "Epoch [200], val_loss: 4.4314\n",
            "Epoch [300], val_loss: 1.9573\n",
            "Epoch [400], val_loss: 7.6306\n",
            "Epoch [500], val_loss: 13.4490\n",
            "Epoch [600], val_loss: 23.7397\n",
            "Epoch [700], val_loss: 13.2290\n",
            "Epoch [800], val_loss: 8.3428\n",
            "Epoch [900], val_loss: 18.5405\n",
            "Epoch [1000], val_loss: 7.8008\n"
          ]
        }
      ]
    },
    {
      "cell_type": "code",
      "metadata": {
        "colab": {
          "base_uri": "https://localhost:8080/"
        },
        "id": "MzfVQlUIYlId",
        "outputId": "1a37a9b4-1cf6-4b2d-d1da-718448ec3a14"
      },
      "source": [
        "epochs = 1000\n",
        "lr = 1e-3\n",
        "history2 = fit(epochs, lr, model, train_loader, val_loader)"
      ],
      "execution_count": null,
      "outputs": [
        {
          "output_type": "stream",
          "name": "stdout",
          "text": [
            "Epoch [100], val_loss: 1.6140\n",
            "Epoch [200], val_loss: 1.1191\n",
            "Epoch [300], val_loss: 1.1380\n",
            "Epoch [400], val_loss: 1.2741\n",
            "Epoch [500], val_loss: 1.4597\n",
            "Epoch [600], val_loss: 1.2120\n",
            "Epoch [700], val_loss: 0.8605\n",
            "Epoch [800], val_loss: 1.1960\n",
            "Epoch [900], val_loss: 1.1343\n",
            "Epoch [1000], val_loss: 0.5920\n"
          ]
        }
      ]
    },
    {
      "cell_type": "code",
      "metadata": {
        "colab": {
          "base_uri": "https://localhost:8080/"
        },
        "id": "Xiyvyc90YuHO",
        "outputId": "230a7824-5c76-48cf-e579-cabaf1b198bd"
      },
      "source": [
        "epochs = 1000\n",
        "lr = 1e-4\n",
        "history3 = fit(epochs, lr, model, train_loader, val_loader)"
      ],
      "execution_count": null,
      "outputs": [
        {
          "output_type": "stream",
          "name": "stdout",
          "text": [
            "Epoch [100], val_loss: 0.5090\n",
            "Epoch [200], val_loss: 0.5089\n",
            "Epoch [300], val_loss: 0.4999\n",
            "Epoch [400], val_loss: 0.4987\n",
            "Epoch [500], val_loss: 0.4945\n",
            "Epoch [600], val_loss: 0.4931\n",
            "Epoch [700], val_loss: 0.4926\n",
            "Epoch [800], val_loss: 0.4919\n",
            "Epoch [900], val_loss: 0.4955\n",
            "Epoch [1000], val_loss: 0.5092\n"
          ]
        }
      ]
    },
    {
      "cell_type": "code",
      "metadata": {
        "colab": {
          "base_uri": "https://localhost:8080/",
          "height": 376
        },
        "id": "EOTQfrNMYzJi",
        "outputId": "306afc27-21c8-4e1f-d08d-bfa932b8ee24"
      },
      "source": [
        "plt.title('val_loss vs. No. of epochs');\n",
        "loss_mat = [res['val_loss'] for res in [result] + history3]\n",
        "plt.plot(loss_mat, '-x')\n",
        "plt.xlabel('epoch')\n",
        "plt.ylabel('val_loss')\n",
        "\n",
        "val_loss = loss_mat[-1]"
      ],
      "execution_count": null,
      "outputs": [
        {
          "output_type": "display_data",
          "data": {
            "image/png": "[encoded data removed]",
            "text/plain": [
              "<Figure size 576x396 with 1 Axes>"
            ]
          },
          "metadata": {}
        }
      ]
    },
    {
      "cell_type": "code",
      "metadata": {
        "id": "dSXNbZIHY6TO"
      },
      "source": [
        "def predict_single(input, target, model):\n",
        "    inputs = input.unsqueeze(0)\n",
        "    predictions = model(inputs)\n",
        "    prediction = predictions[0].detach()\n",
        "    print(\"Input:\", input)\n",
        "    print(\"Target:\", target)\n",
        "    print(\"Prediction:\", prediction)"
      ],
      "execution_count": null,
      "outputs": []
    },
    {
      "cell_type": "code",
      "metadata": {
        "colab": {
          "base_uri": "https://localhost:8080/"
        },
        "id": "PFd4EXVNY-Nv",
        "outputId": "7dabdade-2e0e-4c58-a7ed-ad45478c39e7"
      },
      "source": [
        "input, target = val_ds[10]\n",
        "predict_single(input, target, model)"
      ],
      "execution_count": null,
      "outputs": [
        {
          "output_type": "stream",
          "name": "stdout",
          "text": [
            "Input: tensor([5.2000e+00, 3.4000e-01, 0.0000e+00, 1.8000e+00, 5.0000e-02, 2.7000e+01,\n",
            "        6.3000e+01, 9.9160e-01, 3.6800e+00, 7.9000e-01, 1.4000e+01])\n",
            "Target: tensor([6.])\n",
            "Prediction: tensor([6.7705])\n"
          ]
        }
      ]
    },
    {
      "cell_type": "code",
      "metadata": {
        "colab": {
          "base_uri": "https://localhost:8080/"
        },
        "id": "6AhBPoaBZDcA",
        "outputId": "e658002a-8d77-46bf-92b8-b016ac27b62c"
      },
      "source": [
        "input, target = val_ds[62]\n",
        "predict_single(input, target, model)"
      ],
      "execution_count": null,
      "outputs": [
        {
          "output_type": "stream",
          "name": "stdout",
          "text": [
            "Input: tensor([7.5000e+00, 3.8000e-01, 4.8000e-01, 2.6000e+00, 7.3000e-02, 2.2000e+01,\n",
            "        8.4000e+01, 9.9720e-01, 3.3200e+00, 7.0000e-01, 9.6000e+00])\n",
            "Target: tensor([4.])\n",
            "Prediction: tensor([5.1901])\n"
          ]
        }
      ]
    }
  ]
}